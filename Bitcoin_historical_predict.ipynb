{
 "cells": [
  {
   "cell_type": "code",
   "execution_count": 8,
   "metadata": {
    "id": "1UT6eFlI1iaM"
   },
   "outputs": [],
   "source": [
    "import pandas as pd\n",
    "import numpy as np\n",
    "from sklearn.preprocessing import StandardScaler, PolynomialFeatures\n",
    "from sklearn.linear_model import LinearRegression\n",
    "import matplotlib.pyplot as plt\n",
    "from sklearn.pipeline import Pipeline\n",
    "from sklearn.model_selection import KFold, RandomizedSearchCV"
   ]
  },
  {
   "cell_type": "code",
   "execution_count": 9,
   "metadata": {},
   "outputs": [],
   "source": [
    "df_raw = pd.read_csv(\"C:\\\\Users\\\\rochm\\\\Desktop\\\\btcusd_1-min_data.csv\", low_memory = False)"
   ]
  },
  {
   "cell_type": "code",
   "execution_count": 10,
   "metadata": {},
   "outputs": [
    {
     "data": {
      "text/html": [
       "<div>\n",
       "<style scoped>\n",
       "    .dataframe tbody tr th:only-of-type {\n",
       "        vertical-align: middle;\n",
       "    }\n",
       "\n",
       "    .dataframe tbody tr th {\n",
       "        vertical-align: top;\n",
       "    }\n",
       "\n",
       "    .dataframe thead th {\n",
       "        text-align: right;\n",
       "    }\n",
       "</style>\n",
       "<table border=\"1\" class=\"dataframe\">\n",
       "  <thead>\n",
       "    <tr style=\"text-align: right;\">\n",
       "      <th></th>\n",
       "      <th>Timestamp</th>\n",
       "      <th>Open</th>\n",
       "      <th>High</th>\n",
       "      <th>Low</th>\n",
       "      <th>Close</th>\n",
       "      <th>Volume</th>\n",
       "    </tr>\n",
       "  </thead>\n",
       "  <tbody>\n",
       "    <tr>\n",
       "      <th>0</th>\n",
       "      <td>1.325412e+09</td>\n",
       "      <td>4.58</td>\n",
       "      <td>4.58</td>\n",
       "      <td>4.58</td>\n",
       "      <td>4.58</td>\n",
       "      <td>0.0</td>\n",
       "    </tr>\n",
       "    <tr>\n",
       "      <th>1</th>\n",
       "      <td>1.325412e+09</td>\n",
       "      <td>4.58</td>\n",
       "      <td>4.58</td>\n",
       "      <td>4.58</td>\n",
       "      <td>4.58</td>\n",
       "      <td>0.0</td>\n",
       "    </tr>\n",
       "    <tr>\n",
       "      <th>2</th>\n",
       "      <td>1.325412e+09</td>\n",
       "      <td>4.58</td>\n",
       "      <td>4.58</td>\n",
       "      <td>4.58</td>\n",
       "      <td>4.58</td>\n",
       "      <td>0.0</td>\n",
       "    </tr>\n",
       "    <tr>\n",
       "      <th>3</th>\n",
       "      <td>1.325412e+09</td>\n",
       "      <td>4.58</td>\n",
       "      <td>4.58</td>\n",
       "      <td>4.58</td>\n",
       "      <td>4.58</td>\n",
       "      <td>0.0</td>\n",
       "    </tr>\n",
       "    <tr>\n",
       "      <th>4</th>\n",
       "      <td>1.325412e+09</td>\n",
       "      <td>4.58</td>\n",
       "      <td>4.58</td>\n",
       "      <td>4.58</td>\n",
       "      <td>4.58</td>\n",
       "      <td>0.0</td>\n",
       "    </tr>\n",
       "  </tbody>\n",
       "</table>\n",
       "</div>"
      ],
      "text/plain": [
       "      Timestamp  Open  High   Low  Close  Volume\n",
       "0  1.325412e+09  4.58  4.58  4.58   4.58     0.0\n",
       "1  1.325412e+09  4.58  4.58  4.58   4.58     0.0\n",
       "2  1.325412e+09  4.58  4.58  4.58   4.58     0.0\n",
       "3  1.325412e+09  4.58  4.58  4.58   4.58     0.0\n",
       "4  1.325412e+09  4.58  4.58  4.58   4.58     0.0"
      ]
     },
     "execution_count": 10,
     "metadata": {},
     "output_type": "execute_result"
    }
   ],
   "source": [
    "df_raw.head()"
   ]
  },
  {
   "cell_type": "code",
   "execution_count": 11,
   "metadata": {
    "id": "3mtk9Yyg34cH"
   },
   "outputs": [
    {
     "data": {
      "text/html": [
       "<div>\n",
       "<style scoped>\n",
       "    .dataframe tbody tr th:only-of-type {\n",
       "        vertical-align: middle;\n",
       "    }\n",
       "\n",
       "    .dataframe tbody tr th {\n",
       "        vertical-align: top;\n",
       "    }\n",
       "\n",
       "    .dataframe thead th {\n",
       "        text-align: right;\n",
       "    }\n",
       "</style>\n",
       "<table border=\"1\" class=\"dataframe\">\n",
       "  <thead>\n",
       "    <tr style=\"text-align: right;\">\n",
       "      <th></th>\n",
       "      <th>Timestamp</th>\n",
       "      <th>Open</th>\n",
       "      <th>High</th>\n",
       "      <th>Low</th>\n",
       "      <th>Close</th>\n",
       "      <th>Volume</th>\n",
       "    </tr>\n",
       "  </thead>\n",
       "  <tbody>\n",
       "    <tr>\n",
       "      <th>6773276</th>\n",
       "      <td>1.740441e+09</td>\n",
       "      <td>91382.0</td>\n",
       "      <td>91382.0</td>\n",
       "      <td>91330.0</td>\n",
       "      <td>91369.0</td>\n",
       "      <td>0.700140</td>\n",
       "    </tr>\n",
       "    <tr>\n",
       "      <th>6773277</th>\n",
       "      <td>1.740441e+09</td>\n",
       "      <td>91390.0</td>\n",
       "      <td>91448.0</td>\n",
       "      <td>91388.0</td>\n",
       "      <td>91433.0</td>\n",
       "      <td>3.175210</td>\n",
       "    </tr>\n",
       "    <tr>\n",
       "      <th>6773278</th>\n",
       "      <td>1.740442e+09</td>\n",
       "      <td>91448.0</td>\n",
       "      <td>91554.0</td>\n",
       "      <td>91380.0</td>\n",
       "      <td>91554.0</td>\n",
       "      <td>1.608990</td>\n",
       "    </tr>\n",
       "    <tr>\n",
       "      <th>6773279</th>\n",
       "      <td>1.740442e+09</td>\n",
       "      <td>91516.0</td>\n",
       "      <td>91712.0</td>\n",
       "      <td>91481.0</td>\n",
       "      <td>91712.0</td>\n",
       "      <td>2.316768</td>\n",
       "    </tr>\n",
       "    <tr>\n",
       "      <th>6773280</th>\n",
       "      <td>NaN</td>\n",
       "      <td>57854.0</td>\n",
       "      <td>57864.0</td>\n",
       "      <td>57835.0</td>\n",
       "      <td>57835.0</td>\n",
       "      <td>1.353466</td>\n",
       "    </tr>\n",
       "  </tbody>\n",
       "</table>\n",
       "</div>"
      ],
      "text/plain": [
       "            Timestamp     Open     High      Low    Close    Volume\n",
       "6773276  1.740441e+09  91382.0  91382.0  91330.0  91369.0  0.700140\n",
       "6773277  1.740441e+09  91390.0  91448.0  91388.0  91433.0  3.175210\n",
       "6773278  1.740442e+09  91448.0  91554.0  91380.0  91554.0  1.608990\n",
       "6773279  1.740442e+09  91516.0  91712.0  91481.0  91712.0  2.316768\n",
       "6773280           NaN  57854.0  57864.0  57835.0  57835.0  1.353466"
      ]
     },
     "execution_count": 11,
     "metadata": {},
     "output_type": "execute_result"
    }
   ],
   "source": [
    "df_raw.tail()"
   ]
  },
  {
   "cell_type": "code",
   "execution_count": 12,
   "metadata": {
    "id": "trvRjuVw4Jjb"
   },
   "outputs": [
    {
     "name": "stdout",
     "output_type": "stream",
     "text": [
      "<class 'pandas.core.frame.DataFrame'>\n",
      "RangeIndex: 6773281 entries, 0 to 6773280\n",
      "Data columns (total 6 columns):\n",
      " #   Column     Dtype  \n",
      "---  ------     -----  \n",
      " 0   Timestamp  float64\n",
      " 1   Open       float64\n",
      " 2   High       float64\n",
      " 3   Low        float64\n",
      " 4   Close      float64\n",
      " 5   Volume     float64\n",
      "dtypes: float64(6)\n",
      "memory usage: 310.1 MB\n"
     ]
    }
   ],
   "source": [
    "df_raw.info()\n"
   ]
  },
  {
   "cell_type": "code",
   "execution_count": 13,
   "metadata": {
    "id": "8MuByDmP4cDL"
   },
   "outputs": [
    {
     "data": {
      "text/plain": [
       "Timestamp    1\n",
       "Open         0\n",
       "High         0\n",
       "Low          0\n",
       "Close        0\n",
       "Volume       0\n",
       "dtype: int64"
      ]
     },
     "execution_count": 13,
     "metadata": {},
     "output_type": "execute_result"
    }
   ],
   "source": [
    "df_raw.isnull().sum()"
   ]
  },
  {
   "cell_type": "code",
   "execution_count": 14,
   "metadata": {
    "id": "Pz3iJ1p74foE"
   },
   "outputs": [],
   "source": [
    "df = df_raw.copy()"
   ]
  },
  {
   "cell_type": "code",
   "execution_count": 15,
   "metadata": {
    "id": "es6DfbbH4kNY"
   },
   "outputs": [
    {
     "data": {
      "text/plain": [
       "Timestamp    0\n",
       "Open         0\n",
       "High         0\n",
       "Low          0\n",
       "Close        0\n",
       "Volume       0\n",
       "dtype: int64"
      ]
     },
     "execution_count": 15,
     "metadata": {},
     "output_type": "execute_result"
    }
   ],
   "source": [
    "df.dropna(inplace = True)\n",
    "df.isnull().sum()"
   ]
  },
  {
   "cell_type": "code",
   "execution_count": 16,
   "metadata": {
    "id": "csugjiGF4oe9"
   },
   "outputs": [
    {
     "data": {
      "text/html": [
       "<div>\n",
       "<style scoped>\n",
       "    .dataframe tbody tr th:only-of-type {\n",
       "        vertical-align: middle;\n",
       "    }\n",
       "\n",
       "    .dataframe tbody tr th {\n",
       "        vertical-align: top;\n",
       "    }\n",
       "\n",
       "    .dataframe thead th {\n",
       "        text-align: right;\n",
       "    }\n",
       "</style>\n",
       "<table border=\"1\" class=\"dataframe\">\n",
       "  <thead>\n",
       "    <tr style=\"text-align: right;\">\n",
       "      <th></th>\n",
       "      <th>Timestamp</th>\n",
       "      <th>Open</th>\n",
       "      <th>High</th>\n",
       "      <th>Low</th>\n",
       "      <th>Close</th>\n",
       "      <th>Volume</th>\n",
       "    </tr>\n",
       "  </thead>\n",
       "  <tbody>\n",
       "    <tr>\n",
       "      <th>0</th>\n",
       "      <td>2012-01-01 10:01:00</td>\n",
       "      <td>4.58</td>\n",
       "      <td>4.58</td>\n",
       "      <td>4.58</td>\n",
       "      <td>4.58</td>\n",
       "      <td>0.0</td>\n",
       "    </tr>\n",
       "    <tr>\n",
       "      <th>1</th>\n",
       "      <td>2012-01-01 10:02:00</td>\n",
       "      <td>4.58</td>\n",
       "      <td>4.58</td>\n",
       "      <td>4.58</td>\n",
       "      <td>4.58</td>\n",
       "      <td>0.0</td>\n",
       "    </tr>\n",
       "    <tr>\n",
       "      <th>2</th>\n",
       "      <td>2012-01-01 10:03:00</td>\n",
       "      <td>4.58</td>\n",
       "      <td>4.58</td>\n",
       "      <td>4.58</td>\n",
       "      <td>4.58</td>\n",
       "      <td>0.0</td>\n",
       "    </tr>\n",
       "    <tr>\n",
       "      <th>3</th>\n",
       "      <td>2012-01-01 10:04:00</td>\n",
       "      <td>4.58</td>\n",
       "      <td>4.58</td>\n",
       "      <td>4.58</td>\n",
       "      <td>4.58</td>\n",
       "      <td>0.0</td>\n",
       "    </tr>\n",
       "    <tr>\n",
       "      <th>4</th>\n",
       "      <td>2012-01-01 10:05:00</td>\n",
       "      <td>4.58</td>\n",
       "      <td>4.58</td>\n",
       "      <td>4.58</td>\n",
       "      <td>4.58</td>\n",
       "      <td>0.0</td>\n",
       "    </tr>\n",
       "  </tbody>\n",
       "</table>\n",
       "</div>"
      ],
      "text/plain": [
       "            Timestamp  Open  High   Low  Close  Volume\n",
       "0 2012-01-01 10:01:00  4.58  4.58  4.58   4.58     0.0\n",
       "1 2012-01-01 10:02:00  4.58  4.58  4.58   4.58     0.0\n",
       "2 2012-01-01 10:03:00  4.58  4.58  4.58   4.58     0.0\n",
       "3 2012-01-01 10:04:00  4.58  4.58  4.58   4.58     0.0\n",
       "4 2012-01-01 10:05:00  4.58  4.58  4.58   4.58     0.0"
      ]
     },
     "execution_count": 16,
     "metadata": {},
     "output_type": "execute_result"
    }
   ],
   "source": [
    "df['Timestamp'] = pd.to_datetime(df['Timestamp'], unit = 's')\n",
    "df.head()"
   ]
  },
  {
   "cell_type": "code",
   "execution_count": 17,
   "metadata": {
    "id": "ToTLraDx4zXL"
   },
   "outputs": [
    {
     "data": {
      "text/html": [
       "<div>\n",
       "<style scoped>\n",
       "    .dataframe tbody tr th:only-of-type {\n",
       "        vertical-align: middle;\n",
       "    }\n",
       "\n",
       "    .dataframe tbody tr th {\n",
       "        vertical-align: top;\n",
       "    }\n",
       "\n",
       "    .dataframe thead th {\n",
       "        text-align: right;\n",
       "    }\n",
       "</style>\n",
       "<table border=\"1\" class=\"dataframe\">\n",
       "  <thead>\n",
       "    <tr style=\"text-align: right;\">\n",
       "      <th></th>\n",
       "      <th>Timestamp</th>\n",
       "      <th>Open</th>\n",
       "      <th>High</th>\n",
       "      <th>Low</th>\n",
       "      <th>Close</th>\n",
       "      <th>Volume</th>\n",
       "    </tr>\n",
       "  </thead>\n",
       "  <tbody>\n",
       "    <tr>\n",
       "      <th>6773275</th>\n",
       "      <td>2025-02-24 23:56:00</td>\n",
       "      <td>91432.0</td>\n",
       "      <td>91464.0</td>\n",
       "      <td>91362.0</td>\n",
       "      <td>91362.0</td>\n",
       "      <td>1.056746</td>\n",
       "    </tr>\n",
       "    <tr>\n",
       "      <th>6773276</th>\n",
       "      <td>2025-02-24 23:57:00</td>\n",
       "      <td>91382.0</td>\n",
       "      <td>91382.0</td>\n",
       "      <td>91330.0</td>\n",
       "      <td>91369.0</td>\n",
       "      <td>0.700140</td>\n",
       "    </tr>\n",
       "    <tr>\n",
       "      <th>6773277</th>\n",
       "      <td>2025-02-24 23:58:00</td>\n",
       "      <td>91390.0</td>\n",
       "      <td>91448.0</td>\n",
       "      <td>91388.0</td>\n",
       "      <td>91433.0</td>\n",
       "      <td>3.175210</td>\n",
       "    </tr>\n",
       "    <tr>\n",
       "      <th>6773278</th>\n",
       "      <td>2025-02-24 23:59:00</td>\n",
       "      <td>91448.0</td>\n",
       "      <td>91554.0</td>\n",
       "      <td>91380.0</td>\n",
       "      <td>91554.0</td>\n",
       "      <td>1.608990</td>\n",
       "    </tr>\n",
       "    <tr>\n",
       "      <th>6773279</th>\n",
       "      <td>2025-02-25 00:00:00</td>\n",
       "      <td>91516.0</td>\n",
       "      <td>91712.0</td>\n",
       "      <td>91481.0</td>\n",
       "      <td>91712.0</td>\n",
       "      <td>2.316768</td>\n",
       "    </tr>\n",
       "  </tbody>\n",
       "</table>\n",
       "</div>"
      ],
      "text/plain": [
       "                  Timestamp     Open     High      Low    Close    Volume\n",
       "6773275 2025-02-24 23:56:00  91432.0  91464.0  91362.0  91362.0  1.056746\n",
       "6773276 2025-02-24 23:57:00  91382.0  91382.0  91330.0  91369.0  0.700140\n",
       "6773277 2025-02-24 23:58:00  91390.0  91448.0  91388.0  91433.0  3.175210\n",
       "6773278 2025-02-24 23:59:00  91448.0  91554.0  91380.0  91554.0  1.608990\n",
       "6773279 2025-02-25 00:00:00  91516.0  91712.0  91481.0  91712.0  2.316768"
      ]
     },
     "execution_count": 17,
     "metadata": {},
     "output_type": "execute_result"
    }
   ],
   "source": [
    "df.tail()"
   ]
  },
  {
   "cell_type": "code",
   "execution_count": 18,
   "metadata": {
    "id": "-wCXP3MH42Op"
   },
   "outputs": [
    {
     "data": {
      "image/png": "[encoded data removed]",
      "text/plain": [
       "<Figure size 1500x800 with 1 Axes>"
      ]
     },
     "metadata": {},
     "output_type": "display_data"
    }
   ],
   "source": [
    "plt.figure(figsize= [15, 8])\n",
    "plt.plot(df['Timestamp'],df['High'], color = 'red', label ='High')\n",
    "plt.ylabel('Price')\n",
    "plt.xlabel('Timestamp')\n",
    "plt.xticks(rotation = 90)\n",
    "plt.legend()\n",
    "plt.show()"
   ]
  },
  {
   "cell_type": "code",
   "execution_count": 19,
   "metadata": {
    "id": "WHSirV7a5Qx5"
   },
   "outputs": [
    {
     "data": {
      "image/png": "[encoded data removed]",
      "text/plain": [
       "<Figure size 1500x800 with 1 Axes>"
      ]
     },
     "metadata": {},
     "output_type": "display_data"
    }
   ],
   "source": [
    "plt.figure(figsize = [15,8])\n",
    "plt.plot(df['Timestamp'],df['Volume'], color = 'blue', label = 'Low', alpha = 0.5)\n",
    "plt.ylabel('Volume')\n",
    "plt.xlabel('Timestamp')\n",
    "plt.xticks(rotation = 90)\n",
    "plt.legend()\n",
    "plt.show()"
   ]
  },
  {
   "cell_type": "code",
   "execution_count": 20,
   "metadata": {
    "id": "i-DF0tUOBKuU"
   },
   "outputs": [
    {
     "data": {
      "text/html": [
       "<div>\n",
       "<style scoped>\n",
       "    .dataframe tbody tr th:only-of-type {\n",
       "        vertical-align: middle;\n",
       "    }\n",
       "\n",
       "    .dataframe tbody tr th {\n",
       "        vertical-align: top;\n",
       "    }\n",
       "\n",
       "    .dataframe thead th {\n",
       "        text-align: right;\n",
       "    }\n",
       "</style>\n",
       "<table border=\"1\" class=\"dataframe\">\n",
       "  <thead>\n",
       "    <tr style=\"text-align: right;\">\n",
       "      <th></th>\n",
       "      <th>Timestamp</th>\n",
       "      <th>Open</th>\n",
       "      <th>High</th>\n",
       "      <th>Low</th>\n",
       "      <th>Close</th>\n",
       "      <th>Volume</th>\n",
       "    </tr>\n",
       "  </thead>\n",
       "  <tbody>\n",
       "    <tr>\n",
       "      <th>0</th>\n",
       "      <td>1325412060</td>\n",
       "      <td>4.58</td>\n",
       "      <td>4.58</td>\n",
       "      <td>4.58</td>\n",
       "      <td>4.58</td>\n",
       "      <td>0.0</td>\n",
       "    </tr>\n",
       "    <tr>\n",
       "      <th>1</th>\n",
       "      <td>1325412120</td>\n",
       "      <td>4.58</td>\n",
       "      <td>4.58</td>\n",
       "      <td>4.58</td>\n",
       "      <td>4.58</td>\n",
       "      <td>0.0</td>\n",
       "    </tr>\n",
       "    <tr>\n",
       "      <th>2</th>\n",
       "      <td>1325412180</td>\n",
       "      <td>4.58</td>\n",
       "      <td>4.58</td>\n",
       "      <td>4.58</td>\n",
       "      <td>4.58</td>\n",
       "      <td>0.0</td>\n",
       "    </tr>\n",
       "    <tr>\n",
       "      <th>3</th>\n",
       "      <td>1325412240</td>\n",
       "      <td>4.58</td>\n",
       "      <td>4.58</td>\n",
       "      <td>4.58</td>\n",
       "      <td>4.58</td>\n",
       "      <td>0.0</td>\n",
       "    </tr>\n",
       "    <tr>\n",
       "      <th>4</th>\n",
       "      <td>1325412300</td>\n",
       "      <td>4.58</td>\n",
       "      <td>4.58</td>\n",
       "      <td>4.58</td>\n",
       "      <td>4.58</td>\n",
       "      <td>0.0</td>\n",
       "    </tr>\n",
       "  </tbody>\n",
       "</table>\n",
       "</div>"
      ],
      "text/plain": [
       "    Timestamp  Open  High   Low  Close  Volume\n",
       "0  1325412060  4.58  4.58  4.58   4.58     0.0\n",
       "1  1325412120  4.58  4.58  4.58   4.58     0.0\n",
       "2  1325412180  4.58  4.58  4.58   4.58     0.0\n",
       "3  1325412240  4.58  4.58  4.58   4.58     0.0\n",
       "4  1325412300  4.58  4.58  4.58   4.58     0.0"
      ]
     },
     "execution_count": 20,
     "metadata": {},
     "output_type": "execute_result"
    }
   ],
   "source": [
    "df['Timestamp'] = df['Timestamp'].astype(np.int64) // 10**9\n",
    "df.head()"
   ]
  },
  {
   "cell_type": "code",
   "execution_count": 21,
   "metadata": {
    "id": "55Snwt4n6zOP"
   },
   "outputs": [],
   "source": [
    "data_volumen = df\n",
    "target = df.pop('Close')"
   ]
  },
  {
   "cell_type": "code",
   "execution_count": 22,
   "metadata": {
    "id": "Vh7_79wL_wo5"
   },
   "outputs": [],
   "source": [
    "from sklearn.model_selection import train_test_split\n",
    "X_train, X_test, y_train, y_test = train_test_split(data_volumen, target, test_size = 0.2, random_state = 42, shuffle = True)"
   ]
  },
  {
   "cell_type": "code",
   "execution_count": 23,
   "metadata": {
    "id": "VxB1GxK3AGKZ"
   },
   "outputs": [],
   "source": [
    "scaler = StandardScaler()\n",
    "X_train_sc = scaler.fit_transform(X_train)\n",
    "X_test_sc = scaler.transform(X_test)"
   ]
  },
  {
   "cell_type": "code",
   "execution_count": 26,
   "metadata": {
    "id": "YJ5Ysh33Eho4"
   },
   "outputs": [
    {
     "name": "stdout",
     "output_type": "stream",
     "text": [
      "Fitting 2 folds for each of 5 candidates, totalling 10 fits\n",
      "[CV 1/2] END ....................poly__degree=1;, score=1.000 total time=   2.3s\n",
      "[CV 2/2] END ....................poly__degree=1;, score=1.000 total time=   2.0s\n",
      "[CV 1/2] END ....................poly__degree=2;, score=0.999 total time=   5.5s\n",
      "[CV 2/2] END ....................poly__degree=2;, score=0.999 total time=   6.2s\n",
      "[CV 1/2] END ....................poly__degree=3;, score=0.997 total time=  16.5s\n",
      "[CV 2/2] END ....................poly__degree=3;, score=0.997 total time=  12.9s\n",
      "[CV 1/2] END ....................poly__degree=4;, score=0.994 total time=  37.0s\n",
      "[CV 2/2] END ....................poly__degree=4;, score=0.994 total time=  33.8s\n",
      "[CV 1/2] END ....................poly__degree=5;, score=0.990 total time= 1.5min\n",
      "[CV 2/2] END ....................poly__degree=5;, score=0.990 total time= 1.5min\n",
      "Best params:  {'poly__degree': 1}\n",
      "Best score:  0.9999997671113829\n"
     ]
    }
   ],
   "source": [
    "pipeline = Pipeline([\n",
    "    ('poly', PolynomialFeatures()),\n",
    "    ('linear', LinearRegression())])\n",
    "\n",
    "param_dist = {\n",
    "    'poly__degree': [1, 2, 3, 4, 5]\n",
    "}\n",
    "\n",
    "kf = KFold(n_splits = 2, shuffle = True, random_state = 42)\n",
    "random_grid = RandomizedSearchCV(pipeline, param_distributions=param_dist, cv = kf, n_iter = 5, verbose = 5, scoring='r2')\n",
    "\n",
    "\n",
    "random_grid.fit(X_train, y_train)\n",
    "\n",
    "print(\"Best params: \", random_grid.best_params_)\n",
    "print(\"Best score: \", random_grid.best_score_)\n"
   ]
  },
  {
   "cell_type": "code",
   "execution_count": 28,
   "metadata": {
    "id": "BhEypp1FDzno"
   },
   "outputs": [],
   "source": [
    "y_pred = random_grid.predict(X_test)"
   ]
  },
  {
   "cell_type": "code",
   "execution_count": 48,
   "metadata": {},
   "outputs": [
    {
     "name": "stdout",
     "output_type": "stream",
     "text": [
      "0.9999997739504658\n",
      "95.90227553586837\n"
     ]
    }
   ],
   "source": [
    "from sklearn.metrics import r2_score, mean_squared_error, \n",
    "print(r2_score(y_test, y_pred))\n",
    "print(mean_squared_error(y_test,y_pred))"
   ]
  },
  {
   "cell_type": "code",
   "execution_count": null,
   "metadata": {},
   "outputs": [],
   "source": []
  }
 ],
 "metadata": {
  "accelerator": "GPU",
  "colab": {
   "gpuType": "T4",
   "provenance": []
  },
  "kernelspec": {
   "display_name": "Python [conda env:base] *",
   "language": "python",
   "name": "conda-base-py"
  },
  "language_info": {
   "codemirror_mode": {
    "name": "ipython",
    "version": 3
   },
   "file_extension": ".py",
   "mimetype": "text/x-python",
   "name": "python",
   "nbconvert_exporter": "python",
   "pygments_lexer": "ipython3",
   "version": "3.11.7"
  }
 },
 "nbformat": 4,
 "nbformat_minor": 4
}
